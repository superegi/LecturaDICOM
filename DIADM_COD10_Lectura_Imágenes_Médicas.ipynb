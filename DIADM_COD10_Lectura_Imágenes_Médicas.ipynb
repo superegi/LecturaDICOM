{
 "cells": [
  {
   "cell_type": "markdown",
   "metadata": {
    "id": "qwLsORfCX3_0"
   },
   "source": [
    "<img align=\"center\" src=\"https://drive.google.com/uc?export=view&id=1vI0eRvHpVN1nDI45nQX1RPtfvR36Hs7Z\" style=\"float: center; width: 100%;\">\n",
    "\n",
    "<h2 align=\"left\">Análisis de Imágenes Médicas</h2>\n",
    "\n",
    "<h3 align=\"left\">Sabado 18 de octubre, 2025</h3>\n",
    "\n",
    "<h3 align=\"left\">Profesor: Julio Sotelo </h3>\n",
    "___"
   ]
  },
  {
   "cell_type": "markdown",
   "metadata": {
    "id": "x1PA6PWKapar"
   },
   "source": [
    "Vamos a comenzar a trabajar con imágenes RGB, extraidas de la base de dastos de melanomas. Melanoma Skin Cancer Dataset (https://www.kaggle.com/datasets/nodoubttome/skin-cancer9-classesisic). Este conjunto consta de 2357 imágenes de enfermedades oncológicas malignas y benignas, que se formaron a partir de The International Skin Imaging Collaboration (ISIC). Todas las imágenes se ordenaron según la clasificación realizada con ISIC, y todos los subconjuntos se dividieron en el mismo número de imágenes, a excepción de los melanomas y los lunares, cuyas imágenes son ligeramente dominantes.\n",
    "\n",
    "El conjunto de datos contiene las siguientes enfermedades\n",
    "\n",
    "* queratosis actínica\n",
    "* carcinoma basocelular\n",
    "* dermatofibroma\n",
    "* melanoma\n",
    "* nevus\n",
    "* queratosis benigna pigmentada\n",
    "* queratosis seborreica\n",
    "* carcinoma de células escamosas\n",
    "* lesión vascular\n",
    "\n",
    "El formato de los archivos es `.jpg`"
   ]
  },
  {
   "cell_type": "code",
   "execution_count": 1,
   "metadata": {
    "id": "jwJxWig0a2Pd"
   },
   "outputs": [
    {
     "ename": "ModuleNotFoundError",
     "evalue": "No module named 'kagglehub'",
     "output_type": "error",
     "traceback": [
      "\u001b[0;31m---------------------------------------------------------------------------\u001b[0m",
      "\u001b[0;31mModuleNotFoundError\u001b[0m                       Traceback (most recent call last)",
      "Cell \u001b[0;32mIn[1], line 1\u001b[0m\n\u001b[0;32m----> 1\u001b[0m \u001b[38;5;28;01mimport\u001b[39;00m\u001b[38;5;250m \u001b[39m\u001b[38;5;21;01mkagglehub\u001b[39;00m\n\u001b[1;32m      2\u001b[0m \u001b[38;5;28;01mimport\u001b[39;00m\u001b[38;5;250m \u001b[39m\u001b[38;5;21;01mos\u001b[39;00m\n\u001b[1;32m      4\u001b[0m \u001b[38;5;66;03m# Download latest version\u001b[39;00m\n",
      "\u001b[0;31mModuleNotFoundError\u001b[0m: No module named 'kagglehub'"
     ]
    }
   ],
   "source": [
    "import kagglehub\n",
    "import os\n",
    "\n",
    "# Download latest version\n",
    "folder = kagglehub.dataset_download(\"nodoubttome/skin-cancer9-classesisic\", force_download=True)\n",
    "print(\"Ruta a la carpeta:\", folder)\n"
   ]
  },
  {
   "cell_type": "code",
   "execution_count": null,
   "metadata": {
    "id": "tOXcYkganqez"
   },
   "outputs": [],
   "source": [
    "subfolder = os.listdir(folder) # vemos la carpeta principal\n",
    "subfolder"
   ]
  },
  {
   "cell_type": "code",
   "execution_count": null,
   "metadata": {
    "id": "Yt6YX0eJtVFd"
   },
   "outputs": [],
   "source": [
    "path = folder + '/' + subfolder[0] + '/' + 'Train'\n",
    "path"
   ]
  },
  {
   "cell_type": "code",
   "execution_count": null,
   "metadata": {
    "id": "DsWJjOUjtNBA"
   },
   "outputs": [],
   "source": [
    "folder_test = os.listdir(folder + '/' + subfolder[0] + '/' + 'Test') # las carpetas que contiene\n",
    "folder_train = os.listdir(folder + '/' + subfolder[0] + '/' + 'Train')\n",
    "folder_train"
   ]
  },
  {
   "cell_type": "code",
   "execution_count": null,
   "metadata": {
    "id": "ufzEcZWJoiuX"
   },
   "outputs": [],
   "source": [
    "subfolder[0]"
   ]
  },
  {
   "cell_type": "code",
   "execution_count": null,
   "metadata": {
    "id": "vwjqeo_Re-M1"
   },
   "outputs": [],
   "source": [
    "# vamos a leer todos los nombres de los archivos que esten contenidos en la carpeta \"Skin cancer ISIC The International Skin Imaging Collaboration/Train/melanoma/\"\n",
    "files = os.listdir(folder + '/' + subfolder[0] + '/' + 'Train' + '/' + 'melanoma')\n",
    "len(files)"
   ]
  },
  {
   "cell_type": "code",
   "execution_count": null,
   "metadata": {
    "id": "43SiHIFXth18"
   },
   "outputs": [],
   "source": [
    "files"
   ]
  },
  {
   "cell_type": "code",
   "execution_count": null,
   "metadata": {
    "id": "WqB5_siFcobl"
   },
   "outputs": [],
   "source": [
    "# vamos a leer una imagen de las disponibles en el dataset\n",
    "# carpeta train/benign/\n",
    "# para esto importaremos el modulo de opencv\n",
    "import PIL\n",
    "import cv2\n",
    "import numpy as np\n",
    "import matplotlib.pyplot as plt\n",
    "\n",
    "# leer imagen con openCV, en este caso el archivo se lee en BGR\n",
    "im1 = cv2.imread(folder + '/' + subfolder[0] + '/' + 'Train' + '/' + 'melanoma/' + files[5])\n",
    "# por lo cual debemos convertirla a RGB\n",
    "im1 = cv2.cvtColor(im1, cv2.COLOR_BGR2RGB)\n",
    "\n",
    "\n",
    "# leer imagen con PIL, en este caso el archivo se lee en RGB\n",
    "im2 = np.array(PIL.Image.open(folder + '/' + subfolder[0] + '/' + 'Train' + '/' + 'melanoma/' + files[5]))\n",
    "\n",
    "fig, ax = plt.subplots(1,2,figsize=(20,8))\n",
    "ax[0].imshow(im1)\n",
    "ax[0].set_title('OpenCV')\n",
    "ax[0].axis(False)\n",
    "ax[1].imshow(im2)\n",
    "ax[1].set_title('PIL')\n",
    "ax[1].axis(False)\n",
    "plt.show()\n",
    "\n"
   ]
  },
  {
   "cell_type": "code",
   "execution_count": null,
   "metadata": {
    "id": "rM9a7BGlwIgI"
   },
   "outputs": [],
   "source": [
    "im1.shape"
   ]
  },
  {
   "cell_type": "code",
   "execution_count": null,
   "metadata": {
    "id": "piaPBQ13hsYD"
   },
   "outputs": [],
   "source": [
    "# podemos separar los canales en imagenes por separado\n",
    "im1_R = im1[:,:,0]\n",
    "im1_G = im1[:,:,1]\n",
    "im1_B = im1[:,:,2]\n",
    "\n",
    "fig, ax = plt.subplots(1,4,figsize=(20,8))\n",
    "ax[0].imshow(im1)\n",
    "ax[0].set_title('Original')\n",
    "ax[0].axis(False)\n",
    "ax[1].imshow(im1_R,cmap='gray')\n",
    "ax[1].set_title('Canal R')\n",
    "ax[1].axis(False)\n",
    "ax[2].imshow(im1_G,cmap='gray')\n",
    "ax[2].set_title('Canal G')\n",
    "ax[2].axis(False)\n",
    "ax[3].imshow(im1_B,cmap='gray')\n",
    "ax[3].set_title('Canal B')\n",
    "ax[3].axis(False)\n",
    "plt.show()"
   ]
  },
  {
   "cell_type": "markdown",
   "metadata": {
    "id": "XHFit7fvkqUD"
   },
   "source": [
    "Usando matrices yo puedo escribir una rotación usando una matriz M:\n",
    "    \n",
    "\\begin{equation}\n",
    "M =\n",
    "\\begin{bmatrix}\n",
    "cos\\theta & -sen\\theta\\\\\n",
    "sen\\theta &  cos\\theta \\\\\n",
    "\\end{bmatrix}\n",
    "\\end{equation}\n",
    "    \n",
    "\\begin{equation}\n",
    "\\vec{P'} =\n",
    "\\begin{bmatrix}\n",
    "cos\\theta & -sen\\theta\\\\\n",
    "sen\\theta &  cos\\theta \\\\\n",
    "\\end{bmatrix}\n",
    "\\begin{bmatrix}\n",
    "x \\\\\n",
    "y \\\\\n",
    "\\end{bmatrix}\n",
    "\\end{equation}"
   ]
  },
  {
   "cell_type": "code",
   "execution_count": null,
   "metadata": {
    "id": "FTGTsxfehsWj"
   },
   "outputs": [],
   "source": [
    "# extraemos el centro y el tamaño de la imagen\n",
    "height, width = im1.shape[:2]\n",
    "centerX, centerY = (width // 2, height // 2)\n",
    "\n",
    "# obtenemos la matriz de rotacion\n",
    "M = cv2.getRotationMatrix2D((centerX, centerY), 45, 1.0)\n",
    "\n",
    "# rotamso la imagen\n",
    "im1_R = cv2.warpAffine(im1, M, (width, height))\n",
    "\n",
    "# mostramos la imagen\n",
    "fig, ax = plt.subplots(1,2,figsize=(20,8))\n",
    "ax[0].imshow(im1)\n",
    "ax[0].set_title('Original')\n",
    "ax[0].axis(False)\n",
    "ax[1].imshow(im1_R)\n",
    "ax[1].set_title('Imagen rotada')\n",
    "ax[1].axis(False)\n",
    "plt.show()"
   ]
  },
  {
   "cell_type": "markdown",
   "metadata": {
    "id": "Jx6u4b_wkrYT"
   },
   "source": [
    "Usando matrices y vectores homogeneos yo puedo escribir una traslación usando una matriz M:\n",
    "     \n",
    "\\begin{equation}\n",
    "M =\n",
    "\\begin{bmatrix}\n",
    "1 & 0 & dx \\\\\n",
    "0 & 1 & dy \\\\\n",
    "0 & 0 & 1 \\\\\n",
    "\\end{bmatrix}\n",
    "\\end{equation}    "
   ]
  },
  {
   "cell_type": "code",
   "execution_count": null,
   "metadata": {
    "id": "j5hXhE9rhsUJ"
   },
   "outputs": [],
   "source": [
    "# traslacion de una imagen\n",
    "# almacenamos el valor de la altura y el ancho de la imagen\n",
    "height, width = im1.shape[:2]\n",
    "quarter_height, quarter_width = height / 4, width / 4\n",
    "\n",
    "# construimos la matriz de traslación\n",
    "T = np.float32([[1, 0, quarter_width], [0, 1, quarter_height]])\n",
    "\n",
    "# Usamos la funcion warpAffine para trasladar la imagen\n",
    "img_translation = cv2.warpAffine(im1, T, (width, height))\n",
    "\n",
    "# mostramos la imagen\n",
    "fig, ax = plt.subplots(1,2,figsize=(20,8))\n",
    "ax[0].imshow(im1)\n",
    "ax[0].set_title('Original')\n",
    "ax[0].axis(False)\n",
    "ax[1].imshow(img_translation)\n",
    "ax[1].set_title('Iamgen trasladada')\n",
    "ax[1].axis(False)"
   ]
  },
  {
   "cell_type": "code",
   "execution_count": null,
   "metadata": {
    "id": "XdW3LNKhsDWi"
   },
   "outputs": [],
   "source": [
    "# cambiando el tamaño de la imagen\n",
    "resized_image = cv2.resize(im1, (240, 240), dst=None, fx=None, fy=None, interpolation=cv2.INTER_CUBIC)\n",
    "# mostramos la imagen\n",
    "fig, ax = plt.subplots(1,2,figsize=(20,8))\n",
    "ax[0].imshow(im1)\n",
    "ax[0].set_title('Original')\n",
    "ax[0].axis(False)\n",
    "ax[1].imshow(resized_image)\n",
    "ax[1].set_title('Imagen resize')\n",
    "ax[1].axis(False)"
   ]
  },
  {
   "cell_type": "code",
   "execution_count": null,
   "metadata": {
    "id": "igqoMQcMEnmJ"
   },
   "outputs": [],
   "source": [
    "# zoom in zoom outz\n",
    "zoom_factor = 0.5\n",
    "im1_resize = cv2.resize(im1, None, fx=zoom_factor, fy=zoom_factor, interpolation = cv2.INTER_LINEAR).astype(float)\n",
    "im1_resize[:,:,0] = (im1_resize[:,:,0]/np.amax(im1_resize[:,:,0]))*255.\n",
    "im1_resize[:,:,1] = (im1_resize[:,:,1]/np.amax(im1_resize[:,:,1]))*255.\n",
    "im1_resize[:,:,2] = (im1_resize[:,:,2]/np.amax(im1_resize[:,:,2]))*255.\n",
    "im1_resize = im1_resize.astype(np.uint8)\n",
    "\n",
    "difrows = im1.shape[0] - im1_resize.shape[0]\n",
    "difcol = im1.shape[1] - im1_resize.shape[1]\n",
    "if difrows<0:\n",
    "  difrows = abs(difrows)\n",
    "  difcol = abs(difcol)\n",
    "  im1_resize_zoom = im1_resize[difrows//2:im1_resize.shape[0]-difrows//2, difcol//2:im1_resize.shape[1]-difcol//2]\n",
    "else:\n",
    "  difrows = abs(difrows)\n",
    "  difcol = abs(difcol)\n",
    "  im1_resize_zoom = np.zeros_like(im1)\n",
    "  im1_resize_zoom[difrows//2:im1.shape[0]-difrows//2, difcol//2:im1.shape[1]-difcol//2,:] = im1_resize\n",
    "# mostramos la imagen\n",
    "fig, ax = plt.subplots(1,2,figsize=(20,8))\n",
    "ax[0].imshow(im1)\n",
    "ax[0].set_title('Original')\n",
    "ax[0].axis(False)\n",
    "ax[1].imshow(im1_resize_zoom)\n",
    "ax[1].set_title('Imagen zoom')\n",
    "ax[1].axis(False)\n",
    "plt.show()"
   ]
  },
  {
   "cell_type": "code",
   "execution_count": null,
   "metadata": {
    "id": "ijUZpVuQhsRy"
   },
   "outputs": [],
   "source": [
    "# podemos mostrar cada valor de intensidad en un grafico 3D.\n",
    "# donde los ejes corresponden a cada uno de los canales.\n",
    "R = resized_image[:,:,0].flatten()\n",
    "G = resized_image[:,:,1].flatten()\n",
    "B = resized_image[:,:,2].flatten()\n",
    "\n",
    "fig, ax = plt.subplots(subplot_kw={\"projection\": \"3d\"}, figsize=(10,10))\n",
    "ax.scatter(R, G, B)\n",
    "ax.set_xlabel('Red')\n",
    "ax.set_ylabel('Green')\n",
    "ax.set_zlabel('Blue')\n",
    "ax.view_init(30, 30, 0)\n",
    "plt.show()\n"
   ]
  },
  {
   "cell_type": "markdown",
   "metadata": {
    "id": "UFlvmnQavI_m"
   },
   "source": [
    "#### NIfTI (Neuroimaging Informatics Technology Initiative)\n",
    "\n",
    "Este es un formato comúnmente utilizado para el análisis e investigación con imágenes médicas. Es especialmente útil en contextos computacionales y cuantitativos, ya que:\n",
    "\n",
    "- Contiene la imagen en una estructura 3D o 4D  \n",
    "- Incluye información espacial como la orientación anatómica y el tamaño del voxel  \n",
    "- Es fácilmente manipulable en software de análisis de imágenes médicas como FSL, ANTs, SPM, o usando librerías como `nibabel` en Python  \n",
    "\n",
    "Las imágenes en formato NIfTI (.nii o .nii.gz) permiten operaciones como:\n",
    "\n",
    "- Visualización tridimensional  \n",
    "- Registro entre imágenes  \n",
    "- Segmentación de estructuras  \n",
    "- Extracción de métricas volumétricas o de intensidad  \n",
    "\n",
    "---\n",
    "\n",
    "En este caso las imagenes que leeremos corresponden a un ejemplo de la base de datos del https://www.kaggle.com/datasets/awsaf49/brats20-dataset-training-validation/data. Que corresponde a un challenge de segmentacionn de tumores cerebrales."
   ]
  },
  {
   "cell_type": "code",
   "execution_count": null,
   "metadata": {
    "id": "ICuWbrWUzbwA"
   },
   "outputs": [],
   "source": [
    "from google.colab import drive\n",
    "drive.mount('/content/drive')"
   ]
  },
  {
   "cell_type": "code",
   "execution_count": null,
   "metadata": {
    "id": "n9L_HRPi00mN"
   },
   "outputs": [],
   "source": [
    "import nibabel as nib"
   ]
  },
  {
   "cell_type": "code",
   "execution_count": null,
   "metadata": {
    "id": "D8NB0RVXuvMt"
   },
   "outputs": [],
   "source": [
    "path_folder = '/content/drive/MyDrive/DIADM_2025/DIADM 2025 - GOOGLECOLAB - V2 - MODULO 1/CODIGOS_SEMANA6_18102025/dataset/Nifty_Segmentacion_Tumor_Cerebral/'"
   ]
  },
  {
   "cell_type": "code",
   "execution_count": null,
   "metadata": {
    "id": "pfsEE3Mq0j4t"
   },
   "outputs": [],
   "source": [
    "im1_nifty = nib.load('/content/drive/MyDrive/DIADM_2025/DIADM 2025 - GOOGLECOLAB - V2 - MODULO 1/CODIGOS_SEMANA6_18102025/dataset/Nifty_Segmentacion_Tumor_Cerebral/BraTS20_Training_025_t1.nii')\n",
    "im1_nifty.shape"
   ]
  },
  {
   "cell_type": "code",
   "execution_count": null,
   "metadata": {
    "id": "AtaeXPsS0j2q"
   },
   "outputs": [],
   "source": [
    "im1_nifty_header = im1_nifty.header\n",
    "print(im1_nifty_header)"
   ]
  },
  {
   "cell_type": "code",
   "execution_count": null,
   "metadata": {
    "id": "ESiCHrop0jzi"
   },
   "outputs": [],
   "source": [
    "# leemos las dimensiones\n",
    "dimensions = im1_nifty_header['dim']\n",
    "dimensions"
   ]
  },
  {
   "cell_type": "code",
   "execution_count": null,
   "metadata": {
    "id": "UhpfaMvN2xxh"
   },
   "outputs": [],
   "source": [
    "img_ndata = im1_nifty.get_fdata()\n",
    "img_ndata.shape"
   ]
  },
  {
   "cell_type": "code",
   "execution_count": null,
   "metadata": {
    "id": "MvaX4Lji0jxk"
   },
   "outputs": [],
   "source": [
    "fig, ax = plt.subplots()\n",
    "ax.imshow(img_ndata[:,:,100])\n",
    "ax.set_title('Imagen original')\n",
    "ax.axis(False)\n",
    "plt.show()"
   ]
  },
  {
   "cell_type": "code",
   "execution_count": null,
   "metadata": {
    "id": "gdLeOEp00juQ"
   },
   "outputs": [],
   "source": [
    "fig, ax = plt.subplots()\n",
    "ax.imshow(img_ndata[:,:,60], cmap = 'gray')\n",
    "ax.set_title('Imagen original')\n",
    "ax.axis(False)\n",
    "plt.show()"
   ]
  },
  {
   "cell_type": "code",
   "execution_count": null,
   "metadata": {
    "id": "CV1zOmhn0joW"
   },
   "outputs": [],
   "source": [
    "cortes = np.linspace(0,img_ndata.shape[2]-1,25).astype(int)\n",
    "cortes"
   ]
  },
  {
   "cell_type": "code",
   "execution_count": null,
   "metadata": {
    "id": "sf8hrXnN4ttn"
   },
   "outputs": [],
   "source": [
    "# visualizamos los diferentes cortes de la imagen\n",
    "fig, ax = plt.subplots(5,5, figsize=(10,10))\n",
    "cont = 0\n",
    "for m in range(5):\n",
    "  for n in range(5):\n",
    "    ax[m,n].imshow(img_ndata[:,:,cortes[cont]], cmap = 'gray')\n",
    "    ax[m,n].set_title('IM '+ str(cortes[cont]))\n",
    "    ax[m,n].axis(False)\n",
    "    cont = cont + 1"
   ]
  },
  {
   "cell_type": "code",
   "execution_count": null,
   "metadata": {
    "id": "uNhBgYa37a3G"
   },
   "outputs": [],
   "source": [
    "# visualizamos los diferentes cortes de la imagen en otra orientacion\n",
    "cortes = np.linspace(0,img_ndata.shape[0]-1,25).astype(int)\n",
    "\n",
    "# visualizamos los diferentes cortes de la imagen\n",
    "fig, ax = plt.subplots(5,5, figsize=(10,10))\n",
    "cont = 0\n",
    "for m in range(5):\n",
    "  for n in range(5):\n",
    "    ax[m,n].imshow(img_ndata[cortes[cont],:,:], cmap = 'gray')\n",
    "    ax[m,n].set_title('IM '+ str(cortes[cont]))\n",
    "    ax[m,n].axis(False)\n",
    "    cont += 1"
   ]
  },
  {
   "cell_type": "code",
   "execution_count": null,
   "metadata": {
    "id": "eVW2Lgkz8PVB"
   },
   "outputs": [],
   "source": [
    "# leemos el resto de las imagenes nifty disponibles\n",
    "flair_nifty = nib.load(path_folder + 'BraTS20_Training_025_flair.nii').get_fdata()\n",
    "seg_nifty = nib.load(path_folder + 'BraTS20_Training_025_seg.nii').get_fdata()\n",
    "t1_nifty = nib.load(path_folder + 'BraTS20_Training_025_t1.nii').get_fdata()\n",
    "t1ce_nifty = nib.load(path_folder + 'BraTS20_Training_025_t1ce.nii').get_fdata()\n",
    "t2_nifty = nib.load(path_folder + 'BraTS20_Training_025_t2.nii').get_fdata()"
   ]
  },
  {
   "cell_type": "code",
   "execution_count": null,
   "metadata": {
    "id": "Yd0ULlxz8PSr"
   },
   "outputs": [],
   "source": [
    "# mostramos cada una de las imagenes leidas\n",
    "fig, ax = plt.subplots(1,5, figsize=(20,8))\n",
    "ax[0].imshow(flair_nifty[:,:,89], cmap = 'gray')\n",
    "ax[0].set_title('FLAIR')\n",
    "ax[1].imshow(seg_nifty[:,:,89], cmap = 'gray')\n",
    "ax[1].set_title('SEG')\n",
    "ax[2].imshow(t1_nifty[:,:,89], cmap = 'gray')\n",
    "ax[2].set_title('T1')\n",
    "ax[3].imshow(t1ce_nifty[:,:,89], cmap = 'gray')\n",
    "ax[3].set_title('T1CE')\n",
    "ax[4].imshow(t2_nifty[:,:,89], cmap = 'gray')\n",
    "ax[4].set_title('T2')\n",
    "plt.show()"
   ]
  },
  {
   "cell_type": "code",
   "execution_count": null,
   "metadata": {
    "id": "XzcM-SOzLqFj"
   },
   "outputs": [],
   "source": [
    "# verificamos el tamaño de la imagen original\n",
    "flair_nifty.shape"
   ]
  },
  {
   "cell_type": "code",
   "execution_count": null,
   "metadata": {
    "id": "Xjwyss8pLoIy"
   },
   "outputs": [],
   "source": [
    "# podemos trasponer los ejes de la imagen, para que quede de (240x155x240)\n",
    "IM_new = np.transpose(flair_nifty,(0,2,1))\n",
    "IM_new.shape"
   ]
  },
  {
   "cell_type": "code",
   "execution_count": null,
   "metadata": {
    "id": "_YKO2D4k59eA"
   },
   "outputs": [],
   "source": [
    "fig, ax = plt.subplots(1,2, figsize=(10,8))\n",
    "ax[0].imshow(flair_nifty[:,:,89], cmap = 'gray')\n",
    "ax[0].set_title('FLAIR')\n",
    "ax[1].imshow(IM_new[:,:,89], cmap = 'gray')\n",
    "ax[1].set_title('FLAIR_NEW')\n",
    "plt.show()"
   ]
  },
  {
   "cell_type": "markdown",
   "metadata": {
    "id": "4DR3E-5c9xcq"
   },
   "source": [
    "#### DICOM (Digital Imaging and Communications in Medicine)\n",
    "\n",
    "Este es el formato estándar para el almacenamiento y transmisión de imágenes médicas en el ámbito clínico. Los archivos DICOM contienen no solo la imagen en sí, sino también una gran cantidad de metadatos asociados, incluyendo:\n",
    "\n",
    "- Parámetros técnicos de adquisición (ej. resolución, grosor de corte)  \n",
    "- Identificadores del paciente (anonimizados en este caso)  \n",
    "- Fecha y hora del estudio  \n",
    "- Modalidad de la imagen (ej. T1, T2, FLAIR)  \n",
    "- Información del dispositivo de escaneo  \n",
    "\n",
    "El ejemplo que leeremos corresponde a una imagen de bSFFP obtenida por resonancia magnética."
   ]
  },
  {
   "cell_type": "code",
   "execution_count": null,
   "metadata": {
    "id": "515vo_w6aiuc"
   },
   "outputs": [],
   "source": [
    "!pip install pydicom"
   ]
  },
  {
   "cell_type": "code",
   "execution_count": null,
   "metadata": {
    "id": "yZzo4p90APTR"
   },
   "outputs": [],
   "source": [
    "import pydicom\n",
    "# leemos la carpeta que contiene el conjunto de imagenes\n",
    "path = '/content/drive/MyDrive/DIADM_2025/DIADM 2025 - GOOGLECOLAB - V2 - MODULO 1/CODIGOS_SEMANA6_18102025/dataset/MR-bSSFP-ANON/'"
   ]
  },
  {
   "cell_type": "code",
   "execution_count": null,
   "metadata": {
    "id": "R29rvou-AdPS"
   },
   "outputs": [],
   "source": [
    "# leemos los archivos que hay en su interior\n",
    "files = os.listdir(path)\n",
    "files"
   ]
  },
  {
   "cell_type": "code",
   "execution_count": null,
   "metadata": {
    "id": "_y4e6SqKA0EK"
   },
   "outputs": [],
   "source": [
    "'/content/drive/MyDrive/DIADM_2025/DIADM 2025 - GOOGLECOLAB - V2 - MODULO 1/CODIGOS_SEMANA6_18102025/dataset/MR-bSSFP-ANON/' + files[0]"
   ]
  },
  {
   "cell_type": "code",
   "execution_count": null,
   "metadata": {
    "id": "-tIdJZvAA3nV"
   },
   "outputs": [],
   "source": [
    "'/content/drive/MyDrive/DIADM_2025/DIADM 2025 - GOOGLECOLAB - V2 - MODULO 1/CODIGOS_SEMANA6_18102025/dataset/MR-bSSFP-ANON' + files[0]"
   ]
  },
  {
   "cell_type": "code",
   "execution_count": null,
   "metadata": {
    "id": "3f7bcAeOAkqL"
   },
   "outputs": [],
   "source": [
    "# vamos a leer el primer archivo\n",
    "data = pydicom.dcmread(path + files[0])\n",
    "data"
   ]
  },
  {
   "cell_type": "code",
   "execution_count": null,
   "metadata": {
    "id": "hQv5lAZZNEkB"
   },
   "outputs": [],
   "source": [
    "# extraemos la informacion de la cabecera dicom\n",
    "dataout = data.pixel_array\n",
    "dataout.shape"
   ]
  },
  {
   "cell_type": "code",
   "execution_count": null,
   "metadata": {
    "id": "pLYJlu4wV9jh"
   },
   "outputs": [],
   "source": [
    "fig, ax = plt.subplots(figsize = (20,8))\n",
    "ax.imshow(dataout, cmap=plt.cm.gray)\n",
    "ax.set_title('Imagen original')\n",
    "ax.axis('off')\n",
    "plt.show()"
   ]
  },
  {
   "cell_type": "code",
   "execution_count": null,
   "metadata": {
    "id": "I594Mxj0XbDd"
   },
   "outputs": [],
   "source": [
    "type(dataout)"
   ]
  },
  {
   "cell_type": "code",
   "execution_count": null,
   "metadata": {
    "id": "hOBduGWzXT55"
   },
   "outputs": [],
   "source": [
    "np.amax(dataout)"
   ]
  },
  {
   "cell_type": "code",
   "execution_count": null,
   "metadata": {
    "id": "_xtsHp3EXqRs"
   },
   "outputs": [],
   "source": [
    "np.amin(dataout)"
   ]
  },
  {
   "cell_type": "code",
   "execution_count": null,
   "metadata": {
    "id": "IfeoxyDMBjkT"
   },
   "outputs": [],
   "source": [
    "# como leemos caracteristicas de la cabecera dicom\n",
    "data.Manufacturer"
   ]
  },
  {
   "cell_type": "code",
   "execution_count": null,
   "metadata": {
    "id": "7AipLEicBjiE"
   },
   "outputs": [],
   "source": [
    "data[0x0008,0x0070].value"
   ]
  },
  {
   "cell_type": "code",
   "execution_count": null,
   "metadata": {
    "id": "u6TFUp0gBjfb"
   },
   "outputs": [],
   "source": [
    "# si quisieramos ordenar todas las imagenes en un solo volumen\n",
    "im_volume = np.zeros((dataout.shape[0],dataout.shape[1],len(files)))\n",
    "im_volume.shape"
   ]
  },
  {
   "cell_type": "code",
   "execution_count": null,
   "metadata": {
    "id": "xMPrJLgsBjdD"
   },
   "outputs": [],
   "source": [
    "cont = 0\n",
    "for file_name in files:\n",
    "    im_volume[:,:,cont] = pydicom.dcmread(path + file_name).pixel_array\n",
    "    cont += 1"
   ]
  },
  {
   "cell_type": "code",
   "execution_count": null,
   "metadata": {
    "id": "S7A_U5TqCLT4"
   },
   "outputs": [],
   "source": [
    "im_volume.shape"
   ]
  },
  {
   "cell_type": "code",
   "execution_count": null,
   "metadata": {
    "id": "15lCZZUjCNdH"
   },
   "outputs": [],
   "source": [
    "fig, ax = plt.subplots(figsize = (20,8))\n",
    "ax.imshow(im_volume[:,:,80], cmap=plt.cm.gray)\n",
    "ax.set_title('Imagen original')\n",
    "ax.axis('off')\n",
    "plt.show()"
   ]
  },
  {
   "cell_type": "code",
   "execution_count": null,
   "metadata": {
    "id": "59X5Rd6oGIZH"
   },
   "outputs": [],
   "source": [
    "# visualizamos los diferentes cortes de la imagen\n",
    "cortes = np.linspace(0,im_volume.shape[2]-1,100).astype(int)\n",
    "fig, ax = plt.subplots(10,10, figsize=(20,20))\n",
    "cont = 0\n",
    "for m in range(10):\n",
    "  for n in range(10):\n",
    "    ax[m,n].imshow(im_volume[:,:,cortes[cont]], cmap = 'gray')\n",
    "    ax[m,n].set_title('IM '+ str(cortes[cont]))\n",
    "    ax[m,n].axis(False)\n",
    "    cont += 1"
   ]
  },
  {
   "cell_type": "code",
   "execution_count": null,
   "metadata": {
    "id": "2filIUiZIIjQ"
   },
   "outputs": [],
   "source": [
    "# mostramos 3 cortes distintos a partir del volumen\n",
    "[a,b,c] = im_volume.shape\n",
    "fig, ax = plt.subplots(1,3,figsize = (20,8))\n",
    "ax[0].imshow(im_volume[:,:,c//2], cmap=plt.cm.gray)\n",
    "ax[0].set_title('Imagen sagital')\n",
    "ax[0].axis('off')\n",
    "\n",
    "ax[1].imshow(im_volume[:,b//2,:], cmap=plt.cm.gray)\n",
    "ax[1].set_title('Imagen coronal')\n",
    "ax[1].axis('off')\n",
    "\n",
    "ax[2].imshow(im_volume[a//2,:,:], cmap=plt.cm.gray)\n",
    "ax[2].set_title('Imagen axial')\n",
    "ax[2].axis('off')"
   ]
  },
  {
   "cell_type": "code",
   "execution_count": null,
   "metadata": {
    "id": "FJirPzPHGIXZ"
   },
   "outputs": [],
   "source": [
    "# ordenando los cortes\n",
    "cont = 0\n",
    "for file_name in files:\n",
    "    data = pydicom.dcmread(path + file_name)\n",
    "    InstanceNumber = data.InstanceNumber\n",
    "    RescaleSlope = data.RescaleSlope\n",
    "    RescaleIntercept = data.RescaleIntercept\n",
    "    im_volume[:,:,InstanceNumber-1] = data.pixel_array*RescaleSlope + RescaleIntercept\n",
    "    cont += 1\n"
   ]
  },
  {
   "cell_type": "code",
   "execution_count": null,
   "metadata": {
    "id": "pUodNDyjGIUX"
   },
   "outputs": [],
   "source": [
    "# visualizamos los diferentes cortes de la imagen\n",
    "cortes = np.linspace(0,im_volume.shape[2]-1,100).astype(int)\n",
    "fig, ax = plt.subplots(10,10, figsize=(20,20))\n",
    "cont = 0\n",
    "for m in range(10):\n",
    "  for n in range(10):\n",
    "    ax[m,n].imshow(im_volume[:,:,cortes[cont]], cmap = 'gray')\n",
    "    ax[m,n].set_title('IM '+ str(cortes[cont]))\n",
    "    ax[m,n].axis(False)\n",
    "    cont += 1"
   ]
  },
  {
   "cell_type": "code",
   "execution_count": null,
   "metadata": {
    "id": "e5xwBYVIGISS"
   },
   "outputs": [],
   "source": [
    "# mostramos 3 cortes distintos a partir del volumen\n",
    "[a,b,c] = im_volume.shape\n",
    "fig, ax = plt.subplots(1,3,figsize = (20,8))\n",
    "ax[0].imshow(im_volume[:,:,c//2], cmap=plt.cm.gray)\n",
    "ax[0].set_title('Imagen sagital')\n",
    "ax[0].axis('off')\n",
    "\n",
    "ax[1].imshow(im_volume[:,b//2,:], cmap=plt.cm.gray)\n",
    "ax[1].set_title('Imagen coronal')\n",
    "ax[1].axis('off')\n",
    "\n",
    "ax[2].imshow(im_volume[a//2,:,:], cmap=plt.cm.gray)\n",
    "ax[2].set_title('Imagen axial')\n",
    "ax[2].axis('off')"
   ]
  },
  {
   "cell_type": "code",
   "execution_count": null,
   "metadata": {
    "id": "p6eOwcvuEwi3"
   },
   "outputs": [],
   "source": [
    "im_volume.shape"
   ]
  },
  {
   "cell_type": "code",
   "execution_count": null,
   "metadata": {
    "id": "btNaQUgREge4"
   },
   "outputs": [],
   "source": [
    "len(files)"
   ]
  },
  {
   "cell_type": "code",
   "execution_count": null,
   "metadata": {
    "id": "2FkYcFp3EHNA"
   },
   "outputs": [],
   "source": [
    "data.PixelSpacing\n"
   ]
  },
  {
   "cell_type": "code",
   "execution_count": null,
   "metadata": {
    "id": "2hYHy69YELhm"
   },
   "outputs": [],
   "source": [
    "data.SliceThickness"
   ]
  },
  {
   "cell_type": "code",
   "execution_count": null,
   "metadata": {
    "id": "0jD_VK88EOna"
   },
   "outputs": [],
   "source": [
    "data.SpacingBetweenSlices"
   ]
  },
  {
   "cell_type": "code",
   "execution_count": null,
   "metadata": {
    "id": "A5F2OmsXGIPQ"
   },
   "outputs": [],
   "source": [
    "# vamos a leer ahora una imagen de columna, que nos permitira demostrar la relevancia de usar pixel spacing\n",
    "import pydicom\n",
    "# leemos la carpeta que contiene el conjunto de imagenes\n",
    "path = '/content/drive/MyDrive/DIADM_2025/DIADM 2025 - GOOGLECOLAB - V2 - MODULO 1/CODIGOS_SEMANA6_18102025/dataset/MR-columna-ANON/'\n",
    "\n",
    "# leemos los archivos que hay en su interior\n",
    "files = os.listdir(path)\n",
    "\n",
    "# vamos a leer el primer archivo\n",
    "data = pydicom.dcmread(path + files[0])\n",
    "\n",
    "# extraemos la informacion de la cabecera dicom\n",
    "dataout = data.pixel_array\n",
    "\n",
    "# si quisieramos ordenar todas las imagenes en un solo volumen\n",
    "im_volume = np.zeros((dataout.shape[0],dataout.shape[1],len(files)))\n",
    "im_volume.shape\n",
    "\n",
    "# ordenando los cortes\n",
    "cont = 0\n",
    "for file_name in files:\n",
    "    data = pydicom.dcmread(path + file_name)\n",
    "    InstanceNumber = data.InstanceNumber\n",
    "    im_volume[:,:,InstanceNumber-1] = data.pixel_array\n",
    "    cont += 1\n",
    "\n",
    "voxel_size = data.PixelSpacing\n",
    "voxel_size.append(data.SpacingBetweenSlices)\n",
    "voxel_size"
   ]
  },
  {
   "cell_type": "code",
   "execution_count": null,
   "metadata": {
    "id": "CTc5eSocGIMl"
   },
   "outputs": [],
   "source": [
    "# mostramos 3 cortes distintos a partir del volumen\n",
    "[a,b,c] = im_volume.shape\n",
    "fig, ax = plt.subplots(1,3,figsize = (20,8))\n",
    "ax[0].imshow(im_volume[:,:,c//2], cmap=plt.cm.gray)\n",
    "ax[0].set_title('Imagen sagital')\n",
    "ax[0].axis('off')\n",
    "\n",
    "ax[1].imshow(im_volume[:,b//2,:], cmap=plt.cm.gray)\n",
    "ax[1].set_title('Imagen coronal')\n",
    "ax[1].axis('off')\n",
    "\n",
    "ax[2].imshow(im_volume[a//2,:,:], cmap=plt.cm.gray)\n",
    "ax[2].set_title('Imagen axial')\n",
    "ax[2].axis('off')\n",
    "plt.show()"
   ]
  },
  {
   "cell_type": "code",
   "execution_count": null,
   "metadata": {
    "id": "05XUTDXGJM4E"
   },
   "outputs": [],
   "source": [
    "# mostramos 3 cortes distintos a partir del volumen\n",
    "[a,b,c] = im_volume.shape\n",
    "fig, ax = plt.subplots(1,3,figsize = (20,8))\n",
    "ax[0].imshow(im_volume[:,:,c//2], cmap=plt.cm.gray, extent=[0,b*voxel_size[1],0,a*voxel_size[0]])\n",
    "ax[0].set_title('Imagen sagital')\n",
    "ax[0].axis('off')\n",
    "\n",
    "ax[1].imshow(im_volume[:,b//2,:], cmap=plt.cm.gray, extent=[0,c*voxel_size[2],0,a*voxel_size[0]])\n",
    "ax[1].set_title('Imagen coronal')\n",
    "ax[1].axis('off')\n",
    "\n",
    "ax[2].imshow(im_volume[a//2,:,:], cmap=plt.cm.gray, extent=[0,c*voxel_size[2],0,b*voxel_size[1]])\n",
    "ax[2].set_title('Imagen axial')\n",
    "ax[2].axis('off')\n",
    "\n",
    "plt.show()"
   ]
  },
  {
   "cell_type": "code",
   "execution_count": null,
   "metadata": {
    "id": "W_Q3-ockGIKB"
   },
   "outputs": [],
   "source": [
    "# evaluamos histogramas\n",
    "imagen = im_volume[:,:,c//2].flatten()\n",
    "plt.figure(figsize = (8,8))\n",
    "plt.hist(imagen, 100,color = 'g')\n",
    "plt.title('histograma imagen original', fontsize = 12)\n",
    "plt.xlabel('Intensidad', fontsize = 12)\n",
    "plt.ylabel('Frecuencia', fontsize = 12)\n",
    "plt.axis([np.amin(imagen), np.amax(imagen), 0, None])\n",
    "plt.grid()\n",
    "plt.show()"
   ]
  },
  {
   "cell_type": "code",
   "execution_count": null,
   "metadata": {
    "id": "K2kiarrGRiiv"
   },
   "outputs": [],
   "source": [
    "print('El valor minimo de intensidad en la imagen es: {}'.format(np.amin(imagen)))\n",
    "print('El valor máximo de intensidad en la imagen es: {}'.format(np.amax(imagen)))"
   ]
  },
  {
   "cell_type": "code",
   "execution_count": null,
   "metadata": {
    "id": "QZC_p0QWfLIr"
   },
   "outputs": [],
   "source": [
    "Imagen = np.reshape(imagen,[im_volume.shape[0],im_volume.shape[1]])\n",
    "#\n",
    "MASK1 = (Imagen<150).astype(int)\n",
    "MASK2 = (Imagen>50).astype(int)\n",
    "MASK = ((MASK1 + MASK2)==2).astype(int)\n",
    "# mostramos el dato en pantalla\n",
    "fig, ax = plt.subplots(2,2, figsize = (10,8))\n",
    "ax[0,0].imshow(Imagen, cmap='gray')\n",
    "ax[0,0].set_title('Imagen original')\n",
    "\n",
    "ax[0,1].imshow(MASK1, cmap='gray')\n",
    "ax[0,1].set_title('MASK1')\n",
    "\n",
    "ax[1,0].imshow(MASK2, cmap='gray')\n",
    "ax[1,0].set_title('MASK2')\n",
    "\n",
    "ax[1,1].imshow(MASK, cmap='gray')\n",
    "ax[1,1].set_title('Segmentacion')\n",
    "plt.show()"
   ]
  },
  {
   "cell_type": "code",
   "execution_count": null,
   "metadata": {
    "id": "2A_y8Xd-PTcI"
   },
   "outputs": [],
   "source": [
    "# podemos añadir ruido a la imagen\n",
    "mu, sigma = 0,np.amax(Imagen)*0.05\n",
    "noise = np.random.normal(mu, sigma, Imagen.shape)\n",
    "\n",
    "# mostramos el dato en pantalla\n",
    "fig, ax = plt.subplots(1,2, figsize = (5,5))\n",
    "ax[0].imshow(noise, cmap=plt.cm.gray)\n",
    "ax[0].set_title('noise')\n",
    "\n",
    "ax[1].hist(noise.flatten(), 100,color = 'g')\n",
    "ax[1].set_title('histograma imagen original', fontsize = 12)\n",
    "ax[1].set_xlabel('Intensidad', fontsize = 12)\n",
    "ax[1].set_ylabel('Frecuencia', fontsize = 12)\n",
    "ax[1].grid()\n",
    "plt.tight_layout()\n",
    "plt.show()"
   ]
  },
  {
   "cell_type": "code",
   "execution_count": null,
   "metadata": {
    "id": "p2mLHd9mhWLb"
   },
   "outputs": [],
   "source": [
    "Imagen_noise = Imagen + noise\n",
    "\n",
    "# mostramos el histograma del ruido, sobre la imagen original\n",
    "fig, ax = plt.subplots( 1, 3, figsize = (20,8))\n",
    "ax[0].imshow(Imagen, cmap=plt.cm.gray)\n",
    "ax[0].set_title('Imagen original sin ruido')\n",
    "\n",
    "count, bins, ignored = ax[1].hist(noise.flatten(),100,color='g', density = True)\n",
    "ax[1].plot(bins, 1/(sigma * np.sqrt(2 * np.pi)) * np.exp( - (bins - mu)**2 / (2 * sigma**2) ), linewidth=2, color='r')\n",
    "ax[1].set_title('Histograma del ruido')\n",
    "ax[1].grid()\n",
    "\n",
    "ax[2].imshow(Imagen_noise, cmap=plt.cm.gray)\n",
    "ax[2].set_title('Imagen original con ruido')\n",
    "plt.tight_layout()\n",
    "plt.show()"
   ]
  },
  {
   "cell_type": "code",
   "execution_count": null,
   "metadata": {
    "id": "gfYPYrV0PTlm"
   },
   "outputs": [],
   "source": [
    "# ejemplo imagen en negativo (Funcion de transformacion)\n",
    "Imagen_inv = np.amax(Imagen)-Imagen\n",
    "\n",
    "fig, ax = plt.subplots(1,2,figsize=(20,8))\n",
    "ax[0].imshow(Imagen, cmap=plt.cm.gray)\n",
    "ax[0].set(title = 'Imagen original')\n",
    "\n",
    "ax[1].imshow(Imagen_inv, cmap=plt.cm.gray)\n",
    "ax[1].set(title = 'Complemento')\n",
    "plt.show()"
   ]
  },
  {
   "cell_type": "code",
   "execution_count": null,
   "metadata": {
    "id": "fgy21ig-JBek"
   },
   "outputs": [],
   "source": [
    "data"
   ]
  },
  {
   "cell_type": "code",
   "execution_count": null,
   "metadata": {
    "id": "90HSgglixfgs"
   },
   "outputs": [],
   "source": [
    "# como accedemos a grupos de tag\n",
    "data[0x0008,0x1140]\n"
   ]
  },
  {
   "cell_type": "code",
   "execution_count": null,
   "metadata": {
    "id": "PAYaSTMvNex_"
   },
   "outputs": [],
   "source": [
    "# accedo al subgrupo\n",
    "data[0x0008,0x1140][0]"
   ]
  },
  {
   "cell_type": "code",
   "execution_count": null,
   "metadata": {
    "id": "3ldu4LMbNjD1"
   },
   "outputs": [],
   "source": [
    "#Accedo al valor del elemento que estoy buscando\n",
    "data[0x0008,0x1140][0][0x0008,0x1150].value"
   ]
  }
 ],
 "metadata": {
  "colab": {
   "provenance": []
  },
  "kernelspec": {
   "display_name": "Python 3 (ipykernel)",
   "language": "python",
   "name": "python3"
  },
  "language_info": {
   "codemirror_mode": {
    "name": "ipython",
    "version": 3
   },
   "file_extension": ".py",
   "mimetype": "text/x-python",
   "name": "python",
   "nbconvert_exporter": "python",
   "pygments_lexer": "ipython3",
   "version": "3.12.4"
  }
 },
 "nbformat": 4,
 "nbformat_minor": 4
}
