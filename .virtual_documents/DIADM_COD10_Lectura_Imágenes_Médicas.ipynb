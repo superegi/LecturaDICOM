





import kagglehub
import os

# Download latest version
folder = kagglehub.dataset_download("nodoubttome/skin-cancer9-classesisic", force_download=True)
print("Ruta a la carpeta:", folder)



subfolder = os.listdir(folder) # vemos la carpeta principal
subfolder


path = folder + '/' + subfolder[0] + '/' + 'Train'
path


folder_test = os.listdir(folder + '/' + subfolder[0] + '/' + 'Test') # las carpetas que contiene
folder_train = os.listdir(folder + '/' + subfolder[0] + '/' + 'Train')
folder_train


subfolder[0]


# vamos a leer todos los nombres de los archivos que esten contenidos en la carpeta "Skin cancer ISIC The International Skin Imaging Collaboration/Train/melanoma/"
files = os.listdir(folder + '/' + subfolder[0] + '/' + 'Train' + '/' + 'melanoma')
len(files)


files


# vamos a leer una imagen de las disponibles en el dataset
# carpeta train/benign/
# para esto importaremos el modulo de opencv
import PIL
import cv2
import numpy as np
import matplotlib.pyplot as plt

# leer imagen con openCV, en este caso el archivo se lee en BGR
im1 = cv2.imread(folder + '/' + subfolder[0] + '/' + 'Train' + '/' + 'melanoma/' + files[5])
# por lo cual debemos convertirla a RGB
im1 = cv2.cvtColor(im1, cv2.COLOR_BGR2RGB)


# leer imagen con PIL, en este caso el archivo se lee en RGB
im2 = np.array(PIL.Image.open(folder + '/' + subfolder[0] + '/' + 'Train' + '/' + 'melanoma/' + files[5]))

fig, ax = plt.subplots(1,2,figsize=(20,8))
ax[0].imshow(im1)
ax[0].set_title('OpenCV')
ax[0].axis(False)
ax[1].imshow(im2)
ax[1].set_title('PIL')
ax[1].axis(False)
plt.show()




im1.shape


# podemos separar los canales en imagenes por separado
im1_R = im1[:,:,0]
im1_G = im1[:,:,1]
im1_B = im1[:,:,2]

fig, ax = plt.subplots(1,4,figsize=(20,8))
ax[0].imshow(im1)
ax[0].set_title('Original')
ax[0].axis(False)
ax[1].imshow(im1_R,cmap='gray')
ax[1].set_title('Canal R')
ax[1].axis(False)
ax[2].imshow(im1_G,cmap='gray')
ax[2].set_title('Canal G')
ax[2].axis(False)
ax[3].imshow(im1_B,cmap='gray')
ax[3].set_title('Canal B')
ax[3].axis(False)
plt.show()





# extraemos el centro y el tamaño de la imagen
height, width = im1.shape[:2]
centerX, centerY = (width // 2, height // 2)

# obtenemos la matriz de rotacion
M = cv2.getRotationMatrix2D((centerX, centerY), 45, 1.0)

# rotamso la imagen
im1_R = cv2.warpAffine(im1, M, (width, height))

# mostramos la imagen
fig, ax = plt.subplots(1,2,figsize=(20,8))
ax[0].imshow(im1)
ax[0].set_title('Original')
ax[0].axis(False)
ax[1].imshow(im1_R)
ax[1].set_title('Imagen rotada')
ax[1].axis(False)
plt.show()





# traslacion de una imagen
# almacenamos el valor de la altura y el ancho de la imagen
height, width = im1.shape[:2]
quarter_height, quarter_width = height / 4, width / 4

# construimos la matriz de traslación
T = np.float32([[1, 0, quarter_width], [0, 1, quarter_height]])

# Usamos la funcion warpAffine para trasladar la imagen
img_translation = cv2.warpAffine(im1, T, (width, height))

# mostramos la imagen
fig, ax = plt.subplots(1,2,figsize=(20,8))
ax[0].imshow(im1)
ax[0].set_title('Original')
ax[0].axis(False)
ax[1].imshow(img_translation)
ax[1].set_title('Iamgen trasladada')
ax[1].axis(False)


# cambiando el tamaño de la imagen
resized_image = cv2.resize(im1, (240, 240), dst=None, fx=None, fy=None, interpolation=cv2.INTER_CUBIC)
# mostramos la imagen
fig, ax = plt.subplots(1,2,figsize=(20,8))
ax[0].imshow(im1)
ax[0].set_title('Original')
ax[0].axis(False)
ax[1].imshow(resized_image)
ax[1].set_title('Imagen resize')
ax[1].axis(False)


# zoom in zoom outz
zoom_factor = 0.5
im1_resize = cv2.resize(im1, None, fx=zoom_factor, fy=zoom_factor, interpolation = cv2.INTER_LINEAR).astype(float)
im1_resize[:,:,0] = (im1_resize[:,:,0]/np.amax(im1_resize[:,:,0]))*255.
im1_resize[:,:,1] = (im1_resize[:,:,1]/np.amax(im1_resize[:,:,1]))*255.
im1_resize[:,:,2] = (im1_resize[:,:,2]/np.amax(im1_resize[:,:,2]))*255.
im1_resize = im1_resize.astype(np.uint8)

difrows = im1.shape[0] - im1_resize.shape[0]
difcol = im1.shape[1] - im1_resize.shape[1]
if difrows<0:
  difrows = abs(difrows)
  difcol = abs(difcol)
  im1_resize_zoom = im1_resize[difrows//2:im1_resize.shape[0]-difrows//2, difcol//2:im1_resize.shape[1]-difcol//2]
else:
  difrows = abs(difrows)
  difcol = abs(difcol)
  im1_resize_zoom = np.zeros_like(im1)
  im1_resize_zoom[difrows//2:im1.shape[0]-difrows//2, difcol//2:im1.shape[1]-difcol//2,:] = im1_resize
# mostramos la imagen
fig, ax = plt.subplots(1,2,figsize=(20,8))
ax[0].imshow(im1)
ax[0].set_title('Original')
ax[0].axis(False)
ax[1].imshow(im1_resize_zoom)
ax[1].set_title('Imagen zoom')
ax[1].axis(False)
plt.show()


# podemos mostrar cada valor de intensidad en un grafico 3D.
# donde los ejes corresponden a cada uno de los canales.
R = resized_image[:,:,0].flatten()
G = resized_image[:,:,1].flatten()
B = resized_image[:,:,2].flatten()

fig, ax = plt.subplots(subplot_kw={"projection": "3d"}, figsize=(10,10))
ax.scatter(R, G, B)
ax.set_xlabel('Red')
ax.set_ylabel('Green')
ax.set_zlabel('Blue')
ax.view_init(30, 30, 0)
plt.show()






from google.colab import drive
drive.mount('/content/drive')


import nibabel as nib


path_folder = '/content/drive/MyDrive/DIADM_2025/DIADM 2025 - GOOGLECOLAB - V2 - MODULO 1/CODIGOS_SEMANA6_18102025/dataset/Nifty_Segmentacion_Tumor_Cerebral/'


im1_nifty = nib.load('/content/drive/MyDrive/DIADM_2025/DIADM 2025 - GOOGLECOLAB - V2 - MODULO 1/CODIGOS_SEMANA6_18102025/dataset/Nifty_Segmentacion_Tumor_Cerebral/BraTS20_Training_025_t1.nii')
im1_nifty.shape


im1_nifty_header = im1_nifty.header
print(im1_nifty_header)


# leemos las dimensiones
dimensions = im1_nifty_header['dim']
dimensions


img_ndata = im1_nifty.get_fdata()
img_ndata.shape


fig, ax = plt.subplots()
ax.imshow(img_ndata[:,:,100])
ax.set_title('Imagen original')
ax.axis(False)
plt.show()


fig, ax = plt.subplots()
ax.imshow(img_ndata[:,:,60], cmap = 'gray')
ax.set_title('Imagen original')
ax.axis(False)
plt.show()


cortes = np.linspace(0,img_ndata.shape[2]-1,25).astype(int)
cortes


# visualizamos los diferentes cortes de la imagen
fig, ax = plt.subplots(5,5, figsize=(10,10))
cont = 0
for m in range(5):
  for n in range(5):
    ax[m,n].imshow(img_ndata[:,:,cortes[cont]], cmap = 'gray')
    ax[m,n].set_title('IM '+ str(cortes[cont]))
    ax[m,n].axis(False)
    cont = cont + 1


# visualizamos los diferentes cortes de la imagen en otra orientacion
cortes = np.linspace(0,img_ndata.shape[0]-1,25).astype(int)

# visualizamos los diferentes cortes de la imagen
fig, ax = plt.subplots(5,5, figsize=(10,10))
cont = 0
for m in range(5):
  for n in range(5):
    ax[m,n].imshow(img_ndata[cortes[cont],:,:], cmap = 'gray')
    ax[m,n].set_title('IM '+ str(cortes[cont]))
    ax[m,n].axis(False)
    cont += 1


# leemos el resto de las imagenes nifty disponibles
flair_nifty = nib.load(path_folder + 'BraTS20_Training_025_flair.nii').get_fdata()
seg_nifty = nib.load(path_folder + 'BraTS20_Training_025_seg.nii').get_fdata()
t1_nifty = nib.load(path_folder + 'BraTS20_Training_025_t1.nii').get_fdata()
t1ce_nifty = nib.load(path_folder + 'BraTS20_Training_025_t1ce.nii').get_fdata()
t2_nifty = nib.load(path_folder + 'BraTS20_Training_025_t2.nii').get_fdata()


# mostramos cada una de las imagenes leidas
fig, ax = plt.subplots(1,5, figsize=(20,8))
ax[0].imshow(flair_nifty[:,:,89], cmap = 'gray')
ax[0].set_title('FLAIR')
ax[1].imshow(seg_nifty[:,:,89], cmap = 'gray')
ax[1].set_title('SEG')
ax[2].imshow(t1_nifty[:,:,89], cmap = 'gray')
ax[2].set_title('T1')
ax[3].imshow(t1ce_nifty[:,:,89], cmap = 'gray')
ax[3].set_title('T1CE')
ax[4].imshow(t2_nifty[:,:,89], cmap = 'gray')
ax[4].set_title('T2')
plt.show()


# verificamos el tamaño de la imagen original
flair_nifty.shape


# podemos trasponer los ejes de la imagen, para que quede de (240x155x240)
IM_new = np.transpose(flair_nifty,(0,2,1))
IM_new.shape


fig, ax = plt.subplots(1,2, figsize=(10,8))
ax[0].imshow(flair_nifty[:,:,89], cmap = 'gray')
ax[0].set_title('FLAIR')
ax[1].imshow(IM_new[:,:,89], cmap = 'gray')
ax[1].set_title('FLAIR_NEW')
plt.show()





!pip install pydicom


import pydicom
# leemos la carpeta que contiene el conjunto de imagenes
path = '/content/drive/MyDrive/DIADM_2025/DIADM 2025 - GOOGLECOLAB - V2 - MODULO 1/CODIGOS_SEMANA6_18102025/dataset/MR-bSSFP-ANON/'


# leemos los archivos que hay en su interior
files = os.listdir(path)
files


'/content/drive/MyDrive/DIADM_2025/DIADM 2025 - GOOGLECOLAB - V2 - MODULO 1/CODIGOS_SEMANA6_18102025/dataset/MR-bSSFP-ANON/' + files[0]


'/content/drive/MyDrive/DIADM_2025/DIADM 2025 - GOOGLECOLAB - V2 - MODULO 1/CODIGOS_SEMANA6_18102025/dataset/MR-bSSFP-ANON' + files[0]


# vamos a leer el primer archivo
data = pydicom.dcmread(path + files[0])
data


# extraemos la informacion de la cabecera dicom
dataout = data.pixel_array
dataout.shape


fig, ax = plt.subplots(figsize = (20,8))
ax.imshow(dataout, cmap=plt.cm.gray)
ax.set_title('Imagen original')
ax.axis('off')
plt.show()


type(dataout)


np.amax(dataout)


np.amin(dataout)


# como leemos caracteristicas de la cabecera dicom
data.Manufacturer


data[0x0008,0x0070].value


# si quisieramos ordenar todas las imagenes en un solo volumen
im_volume = np.zeros((dataout.shape[0],dataout.shape[1],len(files)))
im_volume.shape


cont = 0
for file_name in files:
    im_volume[:,:,cont] = pydicom.dcmread(path + file_name).pixel_array
    cont += 1


im_volume.shape


fig, ax = plt.subplots(figsize = (20,8))
ax.imshow(im_volume[:,:,80], cmap=plt.cm.gray)
ax.set_title('Imagen original')
ax.axis('off')
plt.show()


# visualizamos los diferentes cortes de la imagen
cortes = np.linspace(0,im_volume.shape[2]-1,100).astype(int)
fig, ax = plt.subplots(10,10, figsize=(20,20))
cont = 0
for m in range(10):
  for n in range(10):
    ax[m,n].imshow(im_volume[:,:,cortes[cont]], cmap = 'gray')
    ax[m,n].set_title('IM '+ str(cortes[cont]))
    ax[m,n].axis(False)
    cont += 1


# mostramos 3 cortes distintos a partir del volumen
[a,b,c] = im_volume.shape
fig, ax = plt.subplots(1,3,figsize = (20,8))
ax[0].imshow(im_volume[:,:,c//2], cmap=plt.cm.gray)
ax[0].set_title('Imagen sagital')
ax[0].axis('off')

ax[1].imshow(im_volume[:,b//2,:], cmap=plt.cm.gray)
ax[1].set_title('Imagen coronal')
ax[1].axis('off')

ax[2].imshow(im_volume[a//2,:,:], cmap=plt.cm.gray)
ax[2].set_title('Imagen axial')
ax[2].axis('off')


# ordenando los cortes
cont = 0
for file_name in files:
    data = pydicom.dcmread(path + file_name)
    InstanceNumber = data.InstanceNumber
    RescaleSlope = data.RescaleSlope
    RescaleIntercept = data.RescaleIntercept
    im_volume[:,:,InstanceNumber-1] = data.pixel_array*RescaleSlope + RescaleIntercept
    cont += 1



# visualizamos los diferentes cortes de la imagen
cortes = np.linspace(0,im_volume.shape[2]-1,100).astype(int)
fig, ax = plt.subplots(10,10, figsize=(20,20))
cont = 0
for m in range(10):
  for n in range(10):
    ax[m,n].imshow(im_volume[:,:,cortes[cont]], cmap = 'gray')
    ax[m,n].set_title('IM '+ str(cortes[cont]))
    ax[m,n].axis(False)
    cont += 1


# mostramos 3 cortes distintos a partir del volumen
[a,b,c] = im_volume.shape
fig, ax = plt.subplots(1,3,figsize = (20,8))
ax[0].imshow(im_volume[:,:,c//2], cmap=plt.cm.gray)
ax[0].set_title('Imagen sagital')
ax[0].axis('off')

ax[1].imshow(im_volume[:,b//2,:], cmap=plt.cm.gray)
ax[1].set_title('Imagen coronal')
ax[1].axis('off')

ax[2].imshow(im_volume[a//2,:,:], cmap=plt.cm.gray)
ax[2].set_title('Imagen axial')
ax[2].axis('off')


im_volume.shape


len(files)


data.PixelSpacing



data.SliceThickness


data.SpacingBetweenSlices


# vamos a leer ahora una imagen de columna, que nos permitira demostrar la relevancia de usar pixel spacing
import pydicom
# leemos la carpeta que contiene el conjunto de imagenes
path = '/content/drive/MyDrive/DIADM_2025/DIADM 2025 - GOOGLECOLAB - V2 - MODULO 1/CODIGOS_SEMANA6_18102025/dataset/MR-columna-ANON/'

# leemos los archivos que hay en su interior
files = os.listdir(path)

# vamos a leer el primer archivo
data = pydicom.dcmread(path + files[0])

# extraemos la informacion de la cabecera dicom
dataout = data.pixel_array

# si quisieramos ordenar todas las imagenes en un solo volumen
im_volume = np.zeros((dataout.shape[0],dataout.shape[1],len(files)))
im_volume.shape

# ordenando los cortes
cont = 0
for file_name in files:
    data = pydicom.dcmread(path + file_name)
    InstanceNumber = data.InstanceNumber
    im_volume[:,:,InstanceNumber-1] = data.pixel_array
    cont += 1

voxel_size = data.PixelSpacing
voxel_size.append(data.SpacingBetweenSlices)
voxel_size


# mostramos 3 cortes distintos a partir del volumen
[a,b,c] = im_volume.shape
fig, ax = plt.subplots(1,3,figsize = (20,8))
ax[0].imshow(im_volume[:,:,c//2], cmap=plt.cm.gray)
ax[0].set_title('Imagen sagital')
ax[0].axis('off')

ax[1].imshow(im_volume[:,b//2,:], cmap=plt.cm.gray)
ax[1].set_title('Imagen coronal')
ax[1].axis('off')

ax[2].imshow(im_volume[a//2,:,:], cmap=plt.cm.gray)
ax[2].set_title('Imagen axial')
ax[2].axis('off')
plt.show()


# mostramos 3 cortes distintos a partir del volumen
[a,b,c] = im_volume.shape
fig, ax = plt.subplots(1,3,figsize = (20,8))
ax[0].imshow(im_volume[:,:,c//2], cmap=plt.cm.gray, extent=[0,b*voxel_size[1],0,a*voxel_size[0]])
ax[0].set_title('Imagen sagital')
ax[0].axis('off')

ax[1].imshow(im_volume[:,b//2,:], cmap=plt.cm.gray, extent=[0,c*voxel_size[2],0,a*voxel_size[0]])
ax[1].set_title('Imagen coronal')
ax[1].axis('off')

ax[2].imshow(im_volume[a//2,:,:], cmap=plt.cm.gray, extent=[0,c*voxel_size[2],0,b*voxel_size[1]])
ax[2].set_title('Imagen axial')
ax[2].axis('off')

plt.show()


# evaluamos histogramas
imagen = im_volume[:,:,c//2].flatten()
plt.figure(figsize = (8,8))
plt.hist(imagen, 100,color = 'g')
plt.title('histograma imagen original', fontsize = 12)
plt.xlabel('Intensidad', fontsize = 12)
plt.ylabel('Frecuencia', fontsize = 12)
plt.axis([np.amin(imagen), np.amax(imagen), 0, None])
plt.grid()
plt.show()


print('El valor minimo de intensidad en la imagen es: {}'.format(np.amin(imagen)))
print('El valor máximo de intensidad en la imagen es: {}'.format(np.amax(imagen)))


Imagen = np.reshape(imagen,[im_volume.shape[0],im_volume.shape[1]])
#
MASK1 = (Imagen<150).astype(int)
MASK2 = (Imagen>50).astype(int)
MASK = ((MASK1 + MASK2)==2).astype(int)
# mostramos el dato en pantalla
fig, ax = plt.subplots(2,2, figsize = (10,8))
ax[0,0].imshow(Imagen, cmap='gray')
ax[0,0].set_title('Imagen original')

ax[0,1].imshow(MASK1, cmap='gray')
ax[0,1].set_title('MASK1')

ax[1,0].imshow(MASK2, cmap='gray')
ax[1,0].set_title('MASK2')

ax[1,1].imshow(MASK, cmap='gray')
ax[1,1].set_title('Segmentacion')
plt.show()


# podemos añadir ruido a la imagen
mu, sigma = 0,np.amax(Imagen)*0.05
noise = np.random.normal(mu, sigma, Imagen.shape)

# mostramos el dato en pantalla
fig, ax = plt.subplots(1,2, figsize = (5,5))
ax[0].imshow(noise, cmap=plt.cm.gray)
ax[0].set_title('noise')

ax[1].hist(noise.flatten(), 100,color = 'g')
ax[1].set_title('histograma imagen original', fontsize = 12)
ax[1].set_xlabel('Intensidad', fontsize = 12)
ax[1].set_ylabel('Frecuencia', fontsize = 12)
ax[1].grid()
plt.tight_layout()
plt.show()


Imagen_noise = Imagen + noise

# mostramos el histograma del ruido, sobre la imagen original
fig, ax = plt.subplots( 1, 3, figsize = (20,8))
ax[0].imshow(Imagen, cmap=plt.cm.gray)
ax[0].set_title('Imagen original sin ruido')

count, bins, ignored = ax[1].hist(noise.flatten(),100,color='g', density = True)
ax[1].plot(bins, 1/(sigma * np.sqrt(2 * np.pi)) * np.exp( - (bins - mu)**2 / (2 * sigma**2) ), linewidth=2, color='r')
ax[1].set_title('Histograma del ruido')
ax[1].grid()

ax[2].imshow(Imagen_noise, cmap=plt.cm.gray)
ax[2].set_title('Imagen original con ruido')
plt.tight_layout()
plt.show()


# ejemplo imagen en negativo (Funcion de transformacion)
Imagen_inv = np.amax(Imagen)-Imagen

fig, ax = plt.subplots(1,2,figsize=(20,8))
ax[0].imshow(Imagen, cmap=plt.cm.gray)
ax[0].set(title = 'Imagen original')

ax[1].imshow(Imagen_inv, cmap=plt.cm.gray)
ax[1].set(title = 'Complemento')
plt.show()


data


# como accedemos a grupos de tag
data[0x0008,0x1140]



# accedo al subgrupo
data[0x0008,0x1140][0]


#Accedo al valor del elemento que estoy buscando
data[0x0008,0x1140][0][0x0008,0x1150].value
